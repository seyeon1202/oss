{
  "nbformat": 4,
  "nbformat_minor": 0,
  "metadata": {
    "colab": {
      "provenance": [],
      "authorship_tag": "ABX9TyPN/OqcMnohzo+2JUZ91AnG",
      "include_colab_link": true
    },
    "kernelspec": {
      "name": "python3",
      "display_name": "Python 3"
    },
    "language_info": {
      "name": "python"
    }
  },
  "cells": [
    {
      "cell_type": "markdown",
      "metadata": {
        "id": "view-in-github",
        "colab_type": "text"
      },
      "source": [
        "<a href=\"https://colab.research.google.com/github/seyeon1202/oss/blob/main/snakegame.ipynb\" target=\"_parent\"><img src=\"https://colab.research.google.com/assets/colab-badge.svg\" alt=\"Open In Colab\"/></a>"
      ]
    },
    {
      "cell_type": "code",
      "execution_count": 1,
      "metadata": {
        "colab": {
          "base_uri": "https://localhost:8080/",
          "height": 392
        },
        "id": "uW7kswxV-W1T",
        "outputId": "8b3ae72a-c9a3-46d0-d382-7a3042a66b01"
      },
      "outputs": [
        {
          "output_type": "stream",
          "name": "stdout",
          "text": [
            "pygame 2.5.2 (SDL 2.28.2, Python 3.10.12)\n",
            "Hello from the pygame community. https://www.pygame.org/contribute.html\n"
          ]
        },
        {
          "output_type": "error",
          "ename": "KeyboardInterrupt",
          "evalue": "",
          "traceback": [
            "\u001b[0;31m---------------------------------------------------------------------------\u001b[0m",
            "\u001b[0;31mKeyboardInterrupt\u001b[0m                         Traceback (most recent call last)",
            "\u001b[0;32m<ipython-input-1-b0cabeec9a3d>\u001b[0m in \u001b[0;36m<cell line: 101>\u001b[0;34m()\u001b[0m\n\u001b[1;32m    100\u001b[0m \u001b[0mgame_close\u001b[0m \u001b[0;34m=\u001b[0m \u001b[0;32mFalse\u001b[0m\u001b[0;34m\u001b[0m\u001b[0;34m\u001b[0m\u001b[0m\n\u001b[1;32m    101\u001b[0m \u001b[0;32mwhile\u001b[0m \u001b[0;32mnot\u001b[0m \u001b[0mgame_close\u001b[0m\u001b[0;34m:\u001b[0m\u001b[0;34m\u001b[0m\u001b[0;34m\u001b[0m\u001b[0m\n\u001b[0;32m--> 102\u001b[0;31m     \u001b[0;32mif\u001b[0m \u001b[0mgame_loop\u001b[0m\u001b[0;34m(\u001b[0m\u001b[0;34m)\u001b[0m\u001b[0;34m:\u001b[0m\u001b[0;34m\u001b[0m\u001b[0;34m\u001b[0m\u001b[0m\n\u001b[0m\u001b[1;32m    103\u001b[0m         \u001b[0mscreen\u001b[0m\u001b[0;34m.\u001b[0m\u001b[0mfill\u001b[0m\u001b[0;34m(\u001b[0m\u001b[0;34m(\u001b[0m\u001b[0;36m50\u001b[0m\u001b[0;34m,\u001b[0m \u001b[0;36m50\u001b[0m\u001b[0;34m,\u001b[0m \u001b[0;36m50\u001b[0m\u001b[0;34m)\u001b[0m\u001b[0;34m)\u001b[0m\u001b[0;34m\u001b[0m\u001b[0;34m\u001b[0m\u001b[0m\n\u001b[1;32m    104\u001b[0m         \u001b[0mmessage\u001b[0m\u001b[0;34m(\u001b[0m\u001b[0;34m\"You Lose! Press Q-Quit or C-Play Again\"\u001b[0m\u001b[0;34m,\u001b[0m \u001b[0mWHITE\u001b[0m\u001b[0;34m)\u001b[0m\u001b[0;34m\u001b[0m\u001b[0;34m\u001b[0m\u001b[0m\n",
            "\u001b[0;32m<ipython-input-1-b0cabeec9a3d>\u001b[0m in \u001b[0;36mgame_loop\u001b[0;34m()\u001b[0m\n\u001b[1;32m     90\u001b[0m \u001b[0;34m\u001b[0m\u001b[0m\n\u001b[1;32m     91\u001b[0m         \u001b[0mpygame\u001b[0m\u001b[0;34m.\u001b[0m\u001b[0mdisplay\u001b[0m\u001b[0;34m.\u001b[0m\u001b[0mupdate\u001b[0m\u001b[0;34m(\u001b[0m\u001b[0;34m)\u001b[0m\u001b[0;34m\u001b[0m\u001b[0;34m\u001b[0m\u001b[0m\n\u001b[0;32m---> 92\u001b[0;31m         \u001b[0mclock\u001b[0m\u001b[0;34m.\u001b[0m\u001b[0mtick\u001b[0m\u001b[0;34m(\u001b[0m\u001b[0msnake_speed\u001b[0m\u001b[0;34m)\u001b[0m\u001b[0;34m\u001b[0m\u001b[0;34m\u001b[0m\u001b[0m\n\u001b[0m\u001b[1;32m     93\u001b[0m     \u001b[0;32mreturn\u001b[0m \u001b[0;32mTrue\u001b[0m\u001b[0;34m\u001b[0m\u001b[0;34m\u001b[0m\u001b[0m\n\u001b[1;32m     94\u001b[0m \u001b[0;34m\u001b[0m\u001b[0m\n",
            "\u001b[0;31mKeyboardInterrupt\u001b[0m: "
          ]
        }
      ],
      "source": [
        "import pygame\n",
        "import random\n",
        "import time\n",
        "\n",
        "# 초기설정\n",
        "pygame.init()\n",
        "width = 640\n",
        "height = 480\n",
        "screen = pygame.display.set_mode((width, height))\n",
        "clock = pygame.time.Clock()\n",
        "\n",
        "# 게임에서 사용할 색상 정의(RGB 코드)\n",
        "BLACK = (0, 0, 0)\n",
        "WHITE = (255, 255, 255)\n",
        "RED = (255, 0, 0)\n",
        "GREEN = (0, 255, 0)\n",
        "BLUE = (0, 0, 255)\n",
        "\n",
        "# 스네이크 초기 설정\n",
        "snake_block = 20\n",
        "snake_speed = 7   # 속도\n",
        "\n",
        "def game_loop():\n",
        "    game_over = False\n",
        "\n",
        "    snake_list = []  # 뱀의 머리 + 몸통 좌표\n",
        "    snake_length = 1  # 뱀의 현재 길이\n",
        "\n",
        "    # randint(0,width - snake_block) => 0 ~ 700\n",
        "    # randint(0,width - snake_block) // snake_block => 0~39\n",
        "    # snake_block * randint(0, width - snake_block)v // snake_block => [0,20,40,60 ... ,780]\n",
        "\n",
        "    food_x = snake_block * (random.randint(0, width-snake_block) // snake_block)\n",
        "    food_y = snake_block * (random.randint(0, height - snake_block) // snake_block)\n",
        "\n",
        "    x1, y1 = width // 2, height // 2   # 뱀 머리의 좌표\n",
        "    x1_change = 0  # 뱀 머리의 x축 변화\n",
        "    y1_change = 0  # 뱀 머리의 y축 변화\n",
        "\n",
        "    while not game_over:\n",
        "        for event in pygame.event.get():\n",
        "            if event.type == pygame.QUIT:\n",
        "                game_over = True\n",
        "            if event.type == pygame.KEYDOWN:\n",
        "                if event.key == pygame.K_LEFT and x1_change != snake_block:\n",
        "                    x1_change = -snake_block\n",
        "                    y1_change = 0\n",
        "                if event.key == pygame.K_RIGHT and x1_change != -snake_block:\n",
        "                    x1_change = snake_block\n",
        "                    y1_change = 0\n",
        "                if event.key == pygame.K_UP and y1_change != snake_block:\n",
        "                    x1_change = 0\n",
        "                    y1_change = -snake_block\n",
        "                if event.key == pygame.K_DOWN and y1_change != -snake_block:\n",
        "                    x1_change = 0\n",
        "                    y1_change = snake_block\n",
        "\n",
        "        # 종료 조건 1. 뱀이 화면 밖으로 나갔는가\n",
        "        if x1 < 0 or x1 >= width or y1 < 0 or y1 >= height:\n",
        "            game_over = True\n",
        "\n",
        "        # 뱀 위치 업데이트\n",
        "        x1 += x1_change\n",
        "        y1 += y1_change\n",
        "        snake_list.append([x1, y1])\n",
        "        if len(snake_list) > snake_length:\n",
        "            snake_list.pop(0)\n",
        "\n",
        "        # 종료 조건 2. 뱀의 머리가 몸통에 부딪혔는가\n",
        "        for body in snake_list[:-1]:\n",
        "            head = snake_list[-1]\n",
        "            if body[0] == head[0] and body[1] == head[1]:\n",
        "                game_over = True\n",
        "\n",
        "        # 먹이를 먹었는지\n",
        "        if x1 == food_x and y1 == food_y:\n",
        "            snake_length += 1\n",
        "            food_x = snake_block * (random.randint(0, width - snake_block) // snake_block)\n",
        "            food_y = snake_block * (random.randint(0, height - snake_block) // snake_block)\n",
        "\n",
        "        # 화면 출력부\n",
        "        screen.fill(BLACK)\n",
        "        for body in snake_list:\n",
        "            pygame.draw.rect(screen,\n",
        "                             WHITE,\n",
        "                        [body[0], body[1], snake_block, snake_block])\n",
        "\n",
        "        pygame.draw.rect(screen, GREEN,\n",
        "                         [food_x, food_y, snake_block, snake_block])\n",
        "\n",
        "        pygame.display.update()\n",
        "        clock.tick(snake_speed)\n",
        "    return True\n",
        "\n",
        "def message(msg,color):\n",
        "    font_style = pygame.font.SysFont(None,50)\n",
        "    screen_msg = font_style.render(msg, True, color)\n",
        "    screen.blit(screen_msg, [width //8, height // 2.4])\n",
        "\n",
        "game_close = False\n",
        "while not game_close:\n",
        "    if game_loop():\n",
        "        screen.fill((50, 50, 50))\n",
        "        message(\"You Lose! Press Q-Quit or C-Play Again\", WHITE)\n",
        "        pygame.display.update()\n",
        "\n",
        "        choice = False\n",
        "        while not choice:\n",
        "            for event in pygame.event.get():\n",
        "                if event.type == pygame.KEYDOWN:\n",
        "                    if event.key == pygame.K_q:\n",
        "                        game_close = True\n",
        "                        choice = True\n",
        "                    if event.key == pygame.K_c:\n",
        "                        choice = True"
      ]
    }
  ]
}