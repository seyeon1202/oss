{
  "nbformat": 4,
  "nbformat_minor": 0,
  "metadata": {
    "colab": {
      "provenance": [],
      "authorship_tag": "ABX9TyPPRqZiUI+iD7ZR5hPNAL3+",
      "include_colab_link": true
    },
    "kernelspec": {
      "name": "python3",
      "display_name": "Python 3"
    },
    "language_info": {
      "name": "python"
    }
  },
  "cells": [
    {
      "cell_type": "markdown",
      "metadata": {
        "id": "view-in-github",
        "colab_type": "text"
      },
      "source": [
        "<a href=\"https://colab.research.google.com/github/seyeon1202/oss/blob/main/timer.ipynb\" target=\"_parent\"><img src=\"https://colab.research.google.com/assets/colab-badge.svg\" alt=\"Open In Colab\"/></a>"
      ]
    },
    {
      "cell_type": "code",
      "execution_count": 4,
      "metadata": {
        "colab": {
          "base_uri": "https://localhost:8080/"
        },
        "id": "TOVJ7Mr4npCN",
        "outputId": "af214915-e878-4618-a24e-5fe6825eb565"
      },
      "outputs": [
        {
          "output_type": "stream",
          "name": "stdout",
          "text": [
            "초를 입력하세요5\n",
            "5초 카운트다운을 시작합니다.\n",
            "남은 시간: 5초\n",
            "남은 시간: 4초\n",
            "남은 시간: 3초\n",
            "남은 시간: 2초\n",
            "남은 시간: 1초\n",
            "타이머 종료!\n"
          ]
        }
      ],
      "source": [
        "import time\n",
        "\n",
        "def countdown_timer(seconds):\n",
        "    while seconds > 0:\n",
        "        print(f\"남은 시간: {seconds}초\")\n",
        "        time.sleep(1)\n",
        "        seconds -= 1\n",
        "    print(\"타이머 종료!\")\n",
        "\n",
        "# 카운트다운할 시간 설정 (초 단위)\n",
        "\n",
        "countdown_time = int(input(\"초를 입력하세요\"))\n",
        "\n",
        "# 카운트다운 타이머 실행\n",
        "print(f\"{countdown_time}초 카운트다운을 시작합니다.\")\n",
        "countdown_timer(countdown_time)"
      ]
    }
  ]
}