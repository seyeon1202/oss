{
  "nbformat": 4,
  "nbformat_minor": 0,
  "metadata": {
    "colab": {
      "provenance": [],
      "authorship_tag": "ABX9TyNWtDLonzlW76riEbQuux2x",
      "include_colab_link": true
    },
    "kernelspec": {
      "name": "python3",
      "display_name": "Python 3"
    },
    "language_info": {
      "name": "python"
    }
  },
  "cells": [
    {
      "cell_type": "markdown",
      "metadata": {
        "id": "view-in-github",
        "colab_type": "text"
      },
      "source": [
        "<a href=\"https://colab.research.google.com/github/seyeon1202/oss/blob/main/Speedgame.ipynb\" target=\"_parent\"><img src=\"https://colab.research.google.com/assets/colab-badge.svg\" alt=\"Open In Colab\"/></a>"
      ]
    },
    {
      "cell_type": "code",
      "execution_count": 1,
      "metadata": {
        "colab": {
          "base_uri": "https://localhost:8080/"
        },
        "id": "MlIUUpIXxB6d",
        "outputId": "3d80d38d-ac2d-4fbe-8877-44ed393afc08"
      },
      "outputs": [
        {
          "output_type": "stream",
          "name": "stdout",
          "text": [
            "Requirement already satisfied: pygame in /usr/local/lib/python3.10/dist-packages (2.5.2)\n"
          ]
        }
      ],
      "source": [
        "pip install pygame"
      ]
    },
    {
      "cell_type": "code",
      "source": [
        "import random\n",
        "import time\n",
        "import string\n",
        "\n",
        "def generate_random_word():\n",
        "    \"\"\"랜덤 단어 생성\"\"\"\n",
        "    word = ''.join(random.choice(string.ascii_lowercase) for _ in range(random.randint(4, 8)))\n",
        "    return word\n",
        "\n",
        "def game():\n",
        "    print(\"타자 게임을 시작합니다!\")\n",
        "    print(\"3초 후 시작됩니다...\")\n",
        "    time.sleep(3)\n",
        "\n",
        "    score = 0\n",
        "    start_time = time.time()\n",
        "\n",
        "    while True:\n",
        "        word = generate_random_word()\n",
        "        print(f\"단어를 입력하세요: {word}\")\n",
        "\n",
        "        user_input = input().strip().lower()\n",
        "\n",
        "        if user_input == word:\n",
        "            score += 1\n",
        "            print(f\"정답! 현재 점수: {score}\")\n",
        "        else:\n",
        "            print(f\"오답! 정답은 '{word}' 입니다. 최종 점수: {score}\")\n",
        "            break\n",
        "\n",
        "        elapsed_time = time.time() - start_time\n",
        "        print(f\"경과 시간: {int(elapsed_time)}초\\n\")\n",
        "\n",
        "        if elapsed_time >= 60:\n",
        "            print(\"시간 초과! 60초를 초과하여 게임이 종료됩니다.\")\n",
        "            break\n",
        "\n",
        "    print(\"게임 종료!\")\n",
        "\n",
        "if __name__ == \"__main__\":\n",
        "    game()\n"
      ],
      "metadata": {
        "colab": {
          "base_uri": "https://localhost:8080/"
        },
        "id": "BZAXLDdLxJRa",
        "outputId": "549cd4ce-09b5-448b-b2c6-efe4e40d445b"
      },
      "execution_count": 3,
      "outputs": [
        {
          "output_type": "stream",
          "name": "stdout",
          "text": [
            "타자 게임을 시작합니다!\n",
            "3초 후 시작됩니다...\n",
            "단어를 입력하세요: slzru\n",
            "slzru\n",
            "정답! 현재 점수: 1\n",
            "경과 시간: 10초\n",
            "\n",
            "단어를 입력하세요: psbphph\n",
            "psbphpb\n",
            "오답! 정답은 'psbphph' 입니다. 최종 점수: 1\n",
            "게임 종료!\n"
          ]
        }
      ]
    }
  ]
}