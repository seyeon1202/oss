{
  "nbformat": 4,
  "nbformat_minor": 0,
  "metadata": {
    "colab": {
      "provenance": [],
      "authorship_tag": "ABX9TyPalmS5TfOgclWH9rX1mRt8",
      "include_colab_link": true
    },
    "kernelspec": {
      "name": "python3",
      "display_name": "Python 3"
    },
    "language_info": {
      "name": "python"
    }
  },
  "cells": [
    {
      "cell_type": "markdown",
      "metadata": {
        "id": "view-in-github",
        "colab_type": "text"
      },
      "source": [
        "<a href=\"https://colab.research.google.com/github/seyeon1202/oss/blob/main/markdown.ipynb\" target=\"_parent\"><img src=\"https://colab.research.google.com/assets/colab-badge.svg\" alt=\"Open In Colab\"/></a>"
      ]
    },
    {
      "cell_type": "markdown",
      "source": [
        "마크다운은 *이탤릭* 어렵지 않아요!\n",
        "\n",
        "진정한 개발자는 **깃허브**를 일기처럼 씁니다"
      ],
      "metadata": {
        "id": "k3MY_7h3YGTf"
      }
    },
    {
      "cell_type": "markdown",
      "source": [
        "# Header 1\n",
        "## Header 2\n",
        "### Header 3\n",
        "#### Header 4\n",
        "##### Header 5"
      ],
      "metadata": {
        "id": "I6CgNRyAYebI"
      }
    },
    {
      "cell_type": "markdown",
      "source": [
        "문장에 다음 링크를 추가해봅시다.\n",
        "\n",
        "동아대학교 홈페이지는 [여기](https://www.donga.ac.kr\n",
        "\"optional title\")로\n",
        "* https://www.donga.ac.kr\n",
        "\n",
        "My github page is available [here](https://www.donga.ac.kr\n",
        "\"optional title\")\n"
      ],
      "metadata": {
        "id": "_pOQotwzY3xr"
      }
    },
    {
      "cell_type": "markdown",
      "source": [
        "![Img Alt](https://artndesign.com/data/item/1682312756/64Z7JWE64yA7ZWZ6rWQ_66Gc6rOg.png)"
      ],
      "metadata": {
        "id": "ZD8ScarpZ7JR"
      }
    },
    {
      "cell_type": "markdown",
      "source": [
        "> 1. “The computer was born to solve problems that did not exist before.” — Bill\n",
        "Gates, Microsoft founder and former CEO, philanthropist\n",
        "> 2. “Most of the good programmers do programming not because they expect to get\n",
        "paid or get adulation by the public, but because it is fun to program.” — Linus\n",
        "Torvalds, software engineer, inventor of the Linux operating system\n",
        "> 3. Everybody should learn to program a computer, because it teaches you how to\n",
        "think.” - Steve Jobs, former CEO and creator of Apple\n"
      ],
      "metadata": {
        "id": "278zY83keW_E"
      }
    },
    {
      "cell_type": "markdown",
      "source": [
        "1.Ordered list (1,2,3)\n",
        "\n",
        "2.Unordered list(*)"
      ],
      "metadata": {
        "id": "kVoQ4SQbbkxe"
      }
    }
  ]
}