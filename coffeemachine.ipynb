{
  "nbformat": 4,
  "nbformat_minor": 0,
  "metadata": {
    "colab": {
      "provenance": [],
      "authorship_tag": "ABX9TyNllCdJQYVP+NjKeN/oY2lf",
      "include_colab_link": true
    },
    "kernelspec": {
      "name": "python3",
      "display_name": "Python 3"
    },
    "language_info": {
      "name": "python"
    }
  },
  "cells": [
    {
      "cell_type": "markdown",
      "metadata": {
        "id": "view-in-github",
        "colab_type": "text"
      },
      "source": [
        "<a href=\"https://colab.research.google.com/github/seyeon1202/oss/blob/main/coffeemachine.ipynb\" target=\"_parent\"><img src=\"https://colab.research.google.com/assets/colab-badge.svg\" alt=\"Open In Colab\"/></a>"
      ]
    },
    {
      "cell_type": "code",
      "execution_count": 5,
      "metadata": {
        "colab": {
          "base_uri": "https://localhost:8080/"
        },
        "id": "tW297qmZb_8r",
        "outputId": "a777e2fd-c670-40e9-cc3b-20f487fe2253"
      },
      "outputs": [
        {
          "output_type": "stream",
          "name": "stdout",
          "text": [
            "Overwriting coffee.cpp\n"
          ]
        }
      ],
      "source": [
        "# C++ 파일 작성\n",
        "%%writefile coffee.cpp\n",
        "#include <iostream>\n",
        "using namespace std;\n",
        "\n",
        "class CoffeeMachine {\n",
        "public:\n",
        "    int coffee;\n",
        "    int water;\n",
        "    int sugar;\n",
        "\n",
        "    CoffeeMachine(int c, int w, int s);\n",
        "    void drinkEspresso();\n",
        "    void drinkAmericano();\n",
        "    void drinkSugarCoffee();\n",
        "    void show();\n",
        "    void Refill();\n",
        "};\n",
        "\n",
        "CoffeeMachine::CoffeeMachine(int c, int w, int s) {\n",
        "    coffee = c;\n",
        "    water = w;\n",
        "    sugar = s;\n",
        "}\n",
        "\n",
        "void CoffeeMachine::drinkEspresso() {\n",
        "    if (coffee >= 5 && water >= 50) {\n",
        "        coffee -= 5;\n",
        "        water -= 50;\n",
        "        cout << \"에스프레소를 만들었습니다.\" << endl;\n",
        "    }\n",
        "    else {\n",
        "        cout << \"재료가 부족하여 에스프레소를 만들 수 없습니다.\" << endl;\n",
        "    }\n",
        "}\n",
        "\n",
        "void CoffeeMachine::drinkAmericano() {\n",
        "    if (coffee >= 10 && water >= 100) {\n",
        "        coffee -= 10;\n",
        "        water -= 100;\n",
        "        cout << \"아메리카노를 만들었습니다.\" << endl;\n",
        "    }\n",
        "    else {\n",
        "        cout << \"재료가 부족하여 아메리카노를 만들 수 없습니다.\" << endl;\n",
        "    }\n",
        "}\n",
        "\n",
        "void CoffeeMachine::drinkSugarCoffee() {\n",
        "    if (coffee >= 5 && water >= 75 && sugar >= 10) {\n",
        "        coffee -= 5;\n",
        "        water -= 75;\n",
        "        sugar -= 10;\n",
        "        cout << \"설탕 커피를 만들었습니다.\" << endl;\n",
        "    }\n",
        "    else {\n",
        "        cout << \"재료가 부족하여 설탕 커피를 만들 수 없습니다.\" << endl;\n",
        "    }\n",
        "}\n",
        "\n",
        "void CoffeeMachine::show() {\n",
        "    cout << \"커피 머신 상태. 커피: \" << coffee << \", 물: \" << water << \", 설탕: \" << sugar << endl;\n",
        "}\n",
        "\n",
        "void CoffeeMachine::Refill() {\n",
        "    int max = 100;\n",
        "    if (coffee < 10) {\n",
        "        int addedCoffee = max - coffee;\n",
        "        coffee += addedCoffee;\n",
        "        cout << \"커피를 채웠습니다. 추가된 양: \" << addedCoffee << endl;\n",
        "    }\n",
        "    if (water < 10) {\n",
        "        int addedWater = max - water;\n",
        "        water += addedWater;\n",
        "        cout << \"물을 채웠습니다. 추가된 양: \" << addedWater << endl;\n",
        "    }\n",
        "    if (sugar < 10) {\n",
        "        int addedSugar = max - sugar;\n",
        "        sugar += addedSugar;\n",
        "        cout << \"설탕을 채웠습니다. 추가된 양: \" << addedSugar << endl;\n",
        "    }\n",
        "}\n",
        "\n",
        "int main() {\n",
        "    CoffeeMachine java(100, 100, 50);\n",
        "    int choice;\n",
        "    while (true) {\n",
        "        cout << \"1. 에스프레소, 2. 아메리카노, 3. 설탕 커피 중 선택 (0을 입력하면 종료) > \";\n",
        "        cin >> choice;\n",
        "        if (choice == 0) {\n",
        "            cout << \"프로그램을 종료합니다.\" << endl;\n",
        "            break;\n",
        "        }\n",
        "        switch (choice) {\n",
        "            case 1:\n",
        "                java.drinkEspresso();\n",
        "                break;\n",
        "            case 2:\n",
        "                java.drinkAmericano();\n",
        "                break;\n",
        "            case 3:\n",
        "                java.drinkSugarCoffee();\n",
        "                break;\n",
        "            default:\n",
        "                cout << \"잘못된 선택입니다. 다시 선택해주세요.\" << endl;\n",
        "                continue;\n",
        "        }\n",
        "\n",
        "        if (java.coffee < 10 || java.water < 10 || java.sugar < 10) {\n",
        "            java.Refill();\n",
        "        }\n",
        "        java.show();\n",
        "    }\n",
        "    return 0;\n",
        "}\n"
      ]
    },
    {
      "cell_type": "code",
      "source": [
        "# 컴파일\n",
        "!g++ coffee.cpp -o coffee\n",
        "\n",
        "# 실행\n",
        "!./coffee"
      ],
      "metadata": {
        "colab": {
          "base_uri": "https://localhost:8080/"
        },
        "id": "W6YodHjUy_Y3",
        "outputId": "0f7cbafe-0c9c-4da9-99c3-4ccd609f8b79"
      },
      "execution_count": 6,
      "outputs": [
        {
          "output_type": "stream",
          "name": "stdout",
          "text": [
            "1. 에스프레소, 2. 아메리카노, 3. 설탕 커피 중 선택 (0을 입력하면 종료) > 1\n",
            "에스프레소를 만들었습니다.\n",
            "커피 머신 상태. 커피: 95, 물: 50, 설탕: 50\n",
            "1. 에스프레소, 2. 아메리카노, 3. 설탕 커피 중 선택 (0을 입력하면 종료) > 2\n",
            "재료가 부족하여 아메리카노를 만들 수 없습니다.\n",
            "커피 머신 상태. 커피: 95, 물: 50, 설탕: 50\n",
            "1. 에스프레소, 2. 아메리카노, 3. 설탕 커피 중 선택 (0을 입력하면 종료) > 3\n",
            "재료가 부족하여 설탕 커피를 만들 수 없습니다.\n",
            "커피 머신 상태. 커피: 95, 물: 50, 설탕: 50\n",
            "1. 에스프레소, 2. 아메리카노, 3. 설탕 커피 중 선택 (0을 입력하면 종료) > 3\n",
            "재료가 부족하여 설탕 커피를 만들 수 없습니다.\n",
            "커피 머신 상태. 커피: 95, 물: 50, 설탕: 50\n",
            "1. 에스프레소, 2. 아메리카노, 3. 설탕 커피 중 선택 (0을 입력하면 종료) > 3\n",
            "재료가 부족하여 설탕 커피를 만들 수 없습니다.\n",
            "커피 머신 상태. 커피: 95, 물: 50, 설탕: 50\n",
            "1. 에스프레소, 2. 아메리카노, 3. 설탕 커피 중 선택 (0을 입력하면 종료) > 3\n",
            "재료가 부족하여 설탕 커피를 만들 수 없습니다.\n",
            "커피 머신 상태. 커피: 95, 물: 50, 설탕: 50\n",
            "1. 에스프레소, 2. 아메리카노, 3. 설탕 커피 중 선택 (0을 입력하면 종료) > 2\n",
            "재료가 부족하여 아메리카노를 만들 수 없습니다.\n",
            "커피 머신 상태. 커피: 95, 물: 50, 설탕: 50\n",
            "1. 에스프레소, 2. 아메리카노, 3. 설탕 커피 중 선택 (0을 입력하면 종료) > 2\n",
            "재료가 부족하여 아메리카노를 만들 수 없습니다.\n",
            "커피 머신 상태. 커피: 95, 물: 50, 설탕: 50\n",
            "1. 에스프레소, 2. 아메리카노, 3. 설탕 커피 중 선택 (0을 입력하면 종료) > 1\n",
            "에스프레소를 만들었습니다.\n",
            "물을 채웠습니다. 추가된 양: 100\n",
            "커피 머신 상태. 커피: 90, 물: 100, 설탕: 50\n",
            "1. 에스프레소, 2. 아메리카노, 3. 설탕 커피 중 선택 (0을 입력하면 종료) > 1\n",
            "에스프레소를 만들었습니다.\n",
            "커피 머신 상태. 커피: 85, 물: 50, 설탕: 50\n",
            "1. 에스프레소, 2. 아메리카노, 3. 설탕 커피 중 선택 (0을 입력하면 종료) > 1\n",
            "에스프레소를 만들었습니다.\n",
            "물을 채웠습니다. 추가된 양: 100\n",
            "커피 머신 상태. 커피: 80, 물: 100, 설탕: 50\n",
            "1. 에스프레소, 2. 아메리카노, 3. 설탕 커피 중 선택 (0을 입력하면 종료) > 1\n",
            "에스프레소를 만들었습니다.\n",
            "커피 머신 상태. 커피: 75, 물: 50, 설탕: 50\n",
            "1. 에스프레소, 2. 아메리카노, 3. 설탕 커피 중 선택 (0을 입력하면 종료) > 1\n",
            "에스프레소를 만들었습니다.\n",
            "물을 채웠습니다. 추가된 양: 100\n",
            "커피 머신 상태. 커피: 70, 물: 100, 설탕: 50\n",
            "1. 에스프레소, 2. 아메리카노, 3. 설탕 커피 중 선택 (0을 입력하면 종료) > 0\n",
            "프로그램을 종료합니다.\n"
          ]
        }
      ]
    }
  ]
}