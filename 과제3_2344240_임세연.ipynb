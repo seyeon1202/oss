{
  "nbformat": 4,
  "nbformat_minor": 0,
  "metadata": {
    "colab": {
      "provenance": [],
      "include_colab_link": true
    },
    "kernelspec": {
      "name": "python3",
      "display_name": "Python 3"
    },
    "language_info": {
      "name": "python"
    }
  },
  "cells": [
    {
      "cell_type": "markdown",
      "metadata": {
        "id": "view-in-github",
        "colab_type": "text"
      },
      "source": [
        "<a href=\"https://colab.research.google.com/github/seyeon1202/oss/blob/main/%EA%B3%BC%EC%A0%9C3_2344240_%EC%9E%84%EC%84%B8%EC%97%B0.ipynb\" target=\"_parent\"><img src=\"https://colab.research.google.com/assets/colab-badge.svg\" alt=\"Open In Colab\"/></a>"
      ]
    },
    {
      "cell_type": "markdown",
      "source": [
        "## 과제3 - 링크드 리스트\n",
        "\n"
      ],
      "metadata": {
        "id": "ZKOONUREysQ1"
      }
    },
    {
      "cell_type": "markdown",
      "source": [
        "1. 링크드 리스트의 printList 메소드 구현  \n",
        "아래 LinkedList 클래스에 헤드부터 차례대로 노드의 item을 출력하는 메소드를 구현하라.  \n",
        "단, 출력 형식은 아래와 같다.  \n",
        "1 -> 2 -> 3 -> 4 -> end"
      ],
      "metadata": {
        "id": "suyeNPYePw_1"
      }
    },
    {
      "cell_type": "code",
      "source": [
        "class Node:\n",
        "  def __init__(self, item, next=None, prev=None):\n",
        "    self.item = item      # 노드의 데이터\n",
        "    self.next = None\n",
        "    self.prev = None\n",
        "\n",
        "class LinkedList:\n",
        "  def __init__(self):\n",
        "    self.head = None      # 연결 리스트의 첫 번째 노드\n",
        "\n",
        "  def insert(self, i:int, x:int):\n",
        "    \"\"\"insert x in ith element\"\"\"\n",
        "\n",
        "  def delete(self, i):\n",
        "    \"\"\"delete ith element\"\"\"\n",
        "\n",
        "  def printList(self):\n",
        "        current = self.head\n",
        "        while current:\n",
        "            print(current.item, end=\" -> \") # 현재 노드의 데이터 출력 후 다음 노드로 이동\n",
        "            current = current.next\n",
        "        print(\"end\") # 리스트의 끝에 도달하면 'end'를 출력합니다.\n",
        "\n",
        "# 테스트\n",
        "if __name__ == \"__main__\":\n",
        "    # 연결 리스트 생성\n",
        "    a = LinkedList()\n",
        "\n",
        "    # 노드 추가\n",
        "    a.head = Node(1)\n",
        "    two = Node(2)\n",
        "    three = Node(3)\n",
        "    four = Node(4)\n",
        "\n",
        "    # 노드 간 연결\n",
        "    a.head.next = two\n",
        "    two.next = three\n",
        "    three.next = four\n",
        "\n",
        "    # 테스트\n",
        "    a.printList()  # 출력: 1 -> 2 -> 3 -> 4 -> end"
      ],
      "metadata": {
        "id": "8nZv8p_UQH3Y",
        "colab": {
          "base_uri": "https://localhost:8080/"
        },
        "outputId": "277c885a-05fe-4f8e-8070-6250532ca253"
      },
      "execution_count": 2,
      "outputs": [
        {
          "output_type": "stream",
          "name": "stdout",
          "text": [
            "1 -> 2 -> 3 -> 4 -> end\n"
          ]
        }
      ]
    },
    {
      "cell_type": "markdown",
      "source": [
        "2. 싱글 링크드 리스트의 reverse 기능 구현  \n",
        "무작위의 정수 노드들을 포함하는 싱글 링크드 리스트가 주어졌을 때, 이 리스트를 역순으로 나열하는 메소드를 구현하시오.(LinkedList를 상속받는다.)  \n",
        "단, 리스트의 크기는 1<=n<=100000 이며, 포함되는 원소의 범위는 -999 <= x <= 999이다."
      ],
      "metadata": {
        "id": "J5bMwrt3PtHS"
      }
    },
    {
      "cell_type": "code",
      "source": [
        "class SingleLinkedList(LinkedList):\n",
        "  def __init__(self):\n",
        "    super().__init__()\n",
        "    self.head = Node(None)\n",
        "    self.dummy = Node(None, self.head)\n",
        "    self.head.next = self.dummy\n",
        "\n",
        "  def insert(self, i:int, x:int):\n",
        "    newNode = Node(x)\n",
        "    current = self.head\n",
        "    while i != -1:\n",
        "      current = current.next\n",
        "      i -= 1\n",
        "    newNode.next = current.next\n",
        "    current.next = newNode\n",
        "\n",
        "  def reverse(self):\n",
        "    prev = None                  # 역순으로 만들 노드의 이전 노드를 초기화\n",
        "    current = self.head          # 현재 노드를 가리킴\n",
        "    while current is not None:   # 현재 노드가 비어있지 않을 때까지 반복\n",
        "      next_node = current.next   # 다음 노드를 임시로 저장\n",
        "      current.next = prev        # 현재 노드의 다음 노드를 이전 노드로 바꿈 (노드가 역순으로 연결됨)\n",
        "      prev = current             # 현재 노드 -> 이전 노드로 업데이트\n",
        "      current = next_node        # 다음 노드 -> 현재 노드로 업데이\n",
        "    self.head = prev             # 새로운 헤드 노드를 업데이트하여 리스트의 시작이 역순으로 됨\n",
        "\n",
        "  def printList(self):           # 출력 테스트를 하기 위해 위에서 가져다 씀\n",
        "        current = self.head\n",
        "        while current:\n",
        "            print(current.item, end=\" -> \")\n",
        "            current = current.next\n",
        "        print(\"end\")\n",
        "\n",
        "if __name__ == \"__main__\":\n",
        "    # 연결 리스트 생성\n",
        "    a = SingleLinkedList()\n",
        "\n",
        "    # 노드 추가\n",
        "    a.head = Node(1)\n",
        "    two = Node(2)\n",
        "    three = Node(3)\n",
        "    four = Node(4)\n",
        "\n",
        "    a.head.next = two\n",
        "    two.next = three\n",
        "    three.next = four\n",
        "\n",
        "    a.printList() # 출력: 1 -> 2 -> 3 -> 4 -> end\n",
        "    a.reverse()\n",
        "    a.printList() # 출력: 4 -> 3 -> 2 -> 1 -> end"
      ],
      "metadata": {
        "id": "R_PN2l2p1ew0",
        "colab": {
          "base_uri": "https://localhost:8080/"
        },
        "outputId": "537858eb-be60-4821-b8e6-ad6621608ee6"
      },
      "execution_count": 3,
      "outputs": [
        {
          "output_type": "stream",
          "name": "stdout",
          "text": [
            "1 -> 2 -> 3 -> 4 -> end\n",
            "4 -> 3 -> 2 -> 1 -> end\n"
          ]
        }
      ]
    },
    {
      "cell_type": "markdown",
      "source": [
        "3. 두 링크드 리스트의 교차점 찾기  \n",
        "원소가 나열된 배열 혹은 리스트의 원소가 동일한 부분을 \"교차점\" 이라고 한다.  \n",
        "위에서 구현한 싱글 링크드 리스트 두 개가 주어졌을때, 교차점을 찾는 코드를 작성하시오.  \n",
        "단, 원소는 실수(float)와 정수(int)로 구성된다.  \n",
        "예시로써, 입력과 출력은 다음과 같다.  \n",
        "\n",
        "A: 1->2->3->5->6->7  \n",
        "B: 4->5->6->7  \n",
        "출력: 5"
      ],
      "metadata": {
        "id": "GqkTjseTA0Xv"
      }
    },
    {
      "cell_type": "code",
      "source": [
        "class SingleLinkedList(LinkedList):\n",
        "  def __init__(self):\n",
        "    super().__init__()\n",
        "    self.head = Node(None)\n",
        "    self.dummy = Node(None, self.head)\n",
        "    self.head.next = self.dummy\n",
        "\n",
        "  def insert(self, i:int, x:int):\n",
        "    newNode = Node(x)\n",
        "    current = self.head\n",
        "    while i != -1:\n",
        "      current = current.next\n",
        "      i -= 1\n",
        "    newNode.next = current.next\n",
        "    current.next = newNode\n",
        "\n",
        "  def intersect(self, other):\n",
        "    \"\"\"여기에 코딩\"\"\""
      ],
      "metadata": {
        "id": "ThaQYLP_AMb3"
      },
      "execution_count": null,
      "outputs": []
    }
  ]
}